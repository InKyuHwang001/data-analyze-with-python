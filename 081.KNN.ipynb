{
 "cells": [
  {
   "cell_type": "code",
   "execution_count": 1,
   "id": "8fe0d5ab",
   "metadata": {},
   "outputs": [
    {
     "name": "stdout",
     "output_type": "stream",
     "text": [
      "Populating the interactive namespace from numpy and matplotlib\n"
     ]
    }
   ],
   "source": [
    "import numpy as np \n",
    "import pandas as pd \n",
    "\n",
    "%pylab inline "
   ]
  },
  {
   "cell_type": "code",
   "execution_count": 3,
   "id": "6629af6a",
   "metadata": {},
   "outputs": [],
   "source": [
    "from sklearn.neighbors import KNeighborsRegressor"
   ]
  },
  {
   "cell_type": "code",
   "execution_count": 4,
   "id": "e3ed70ad",
   "metadata": {},
   "outputs": [],
   "source": [
    "regressor = KNeighborsRegressor(n_neighbors = 3, weights = \"distance\")# k는 홀수여야 한다."
   ]
  },
  {
   "cell_type": "code",
   "execution_count": 5,
   "id": "9c90781d",
   "metadata": {},
   "outputs": [],
   "source": [
    "training_points = [\n",
    "  [0.5, 0.2, 0.1],\n",
    "  [0.9, 0.7, 0.3],\n",
    "  [0.4, 0.5, 0.7]]"
   ]
  },
  {
   "cell_type": "code",
   "execution_count": 6,
   "id": "c1ff5b16",
   "metadata": {},
   "outputs": [
    {
     "data": {
      "text/plain": [
       "KNeighborsRegressor(n_neighbors=3, weights='distance')"
      ]
     },
     "execution_count": 6,
     "metadata": {},
     "output_type": "execute_result"
    }
   ],
   "source": [
    "training_labels = [5.0, 6.8, 9.0]\n",
    "regressor.fit(training_points, training_labels)"
   ]
  },
  {
   "cell_type": "code",
   "execution_count": 7,
   "id": "bd7ce20a",
   "metadata": {},
   "outputs": [],
   "source": [
    "unknown_points = [\n",
    "  [0.2, 0.1, 0.7],\n",
    "  [0.4, 0.7, 0.6],\n",
    "  [0.5, 0.8, 0.1]]"
   ]
  },
  {
   "cell_type": "code",
   "execution_count": 8,
   "id": "130be5db",
   "metadata": {},
   "outputs": [],
   "source": [
    "guesses = regressor.predict(unknown_points)"
   ]
  },
  {
   "cell_type": "code",
   "execution_count": 11,
   "id": "00b57112",
   "metadata": {},
   "outputs": [
    {
     "data": {
      "text/plain": [
       "array([7.28143288, 7.76451922, 6.8457845 ])"
      ]
     },
     "execution_count": 11,
     "metadata": {},
     "output_type": "execute_result"
    }
   ],
   "source": [
    "guesses "
   ]
  }
 ],
 "metadata": {
  "kernelspec": {
   "display_name": "Python 3 (ipykernel)",
   "language": "python",
   "name": "python3"
  },
  "language_info": {
   "codemirror_mode": {
    "name": "ipython",
    "version": 3
   },
   "file_extension": ".py",
   "mimetype": "text/x-python",
   "name": "python",
   "nbconvert_exporter": "python",
   "pygments_lexer": "ipython3",
   "version": "3.9.7"
  }
 },
 "nbformat": 4,
 "nbformat_minor": 5
}
