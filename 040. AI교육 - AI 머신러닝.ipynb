{
 "cells": [
  {
   "cell_type": "markdown",
   "id": "3a90c042",
   "metadata": {},
   "source": [
    "# 교제\n",
    "1. Machine Learning and AI Big Data\n",
    "2. Google Colab\n",
    "3. NumPy\n",
    "4. Pandas\n",
    "5. scikit-learn\n",
    "6. Naïve Bayes\n",
    "7. K-Nearest Neighbors\n",
    "8. Linear Regression\n",
    "9. Logistic Regression\n",
    "10. Decision Tree\n",
    "11. Unsupervised Learning\n",
    "12. Cluster Analysis\n",
    "13. Hierarchical Clustering\n",
    "14. K-means Clustering\n",
    "15. Principal Component Analysis\n",
    "16. Evaluating Classification Models\n",
    "17. Neural Networks\n",
    "18. Future Machine Learning"
   ]
  },
  {
   "cell_type": "markdown",
   "id": "0cfbf718",
   "metadata": {},
   "source": [
    "# 공개내역\n",
    "\n",
    "0. Machine Learning and AI Big Data\n",
    "    - AI is Go\n",
    "        - AlphaGo 이전: deductive(연역적) 프로그래밍\n",
    "        - AlphaGo 이후: inductive(귀납적) 프로그래밍\n",
    "     - Machine Learning\n",
    "         - 인공지능\n",
    "             - 약 인공지능: 주어진 일을 인간의 지시에 따라 수행\n",
    "             - 강 인공지능: 약 인공지능의 제한된 기능을 뛰어넘어 더 발달\n",
    "         - 머신러닝: 스스로 학습하여 인공지능의 성능을 향상\n",
    "         - 딥러닝: 사람 뇌의 뉴런과 유사한 방식으로 정보를 처리\n",
    "\n",
    "1. 넘파이 \n",
    "    - 많은 양의 수치형 데이터의 행렬 등의 다양한 수학적 작업을 효율적으로 처리\n",
    "    - scikit-learn Library는 넘파이를 기반\n",
    "\n",
    "2. 판다스: Series, DataFrame\n",
    "    - 대규모 데이터 셋을 처리\n",
    "    - 일반적으로 개체를 나타내는 행과 변수를 나타내는 열의 2차원 구조\n",
    "- 사이킷런(scikit-learn)\n",
    "    - 파이썬 머신러닝 라이브러리 중 가장 많이 사용\n",
    "        - fit() – 모델 학습\n",
    "        - predict() – 결과 예측\n",
    "\n",
    "3. 나이브 베이즈\n",
    "    - 지도학습, 모델기반 분류모형\n",
    "    - 종류:\n",
    "        1. 카데고리 나이브 베이즈 분류모델(CategoricalNB)\n",
    "        2. 가우시안 나이브 베이즈 분류모델 (GausianNB)\n",
    "        3. 베르누이분포 나이브 베이즈 분류모델 (BernoulliNB)\n",
    "        4. 다항분포 나이브 베이즈 분류모델 (MultinomialNB)\n",
    "    - 장점:\n",
    "        - 구현이 쉽고 대부분 좋은 결과를 제공한다.\n",
    "        - 특성들 사이의 연관성을 고려하지 않아 계산이 간단하고 빠르다.\n",
    "        - 적은 크기의 훈련데이터에서도 잘 동작한다. \n",
    "    - 단점:\n",
    "        - 독립을 가정하기 때문에 종속적인 자료들의 경우 정확도가 떨어진다."
   ]
  },
  {
   "cell_type": "code",
   "execution_count": null,
   "id": "b715c0a6",
   "metadata": {},
   "outputs": [],
   "source": []
  }
 ],
 "metadata": {
  "kernelspec": {
   "display_name": "Python 3 (ipykernel)",
   "language": "python",
   "name": "python3"
  },
  "language_info": {
   "codemirror_mode": {
    "name": "ipython",
    "version": 3
   },
   "file_extension": ".py",
   "mimetype": "text/x-python",
   "name": "python",
   "nbconvert_exporter": "python",
   "pygments_lexer": "ipython3",
   "version": "3.9.7"
  }
 },
 "nbformat": 4,
 "nbformat_minor": 5
}
