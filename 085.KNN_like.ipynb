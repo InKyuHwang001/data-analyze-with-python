{
 "cells": [
  {
   "cell_type": "markdown",
   "id": "a65c0d45",
   "metadata": {},
   "source": [
    "---\n",
    "# 085. KNN_like\n",
    "---\n",
    "## 5.1. 데이터 불러오기"
   ]
  },
  {
   "cell_type": "code",
   "execution_count": null,
   "id": "a6222f09",
   "metadata": {},
   "outputs": [],
   "source": [
    "import numpy as np\n",
    "import pandas as pd\n",
    "import matplotlib.pyplot as plt\n",
    "%matplotlib inline"
   ]
  },
  {
   "cell_type": "code",
   "execution_count": 4,
   "id": "9abda562",
   "metadata": {},
   "outputs": [
    {
     "data": {
      "text/html": [
       "<div>\n",
       "<style scoped>\n",
       "    .dataframe tbody tr th:only-of-type {\n",
       "        vertical-align: middle;\n",
       "    }\n",
       "\n",
       "    .dataframe tbody tr th {\n",
       "        vertical-align: top;\n",
       "    }\n",
       "\n",
       "    .dataframe thead th {\n",
       "        text-align: right;\n",
       "    }\n",
       "</style>\n",
       "<table border=\"1\" class=\"dataframe\">\n",
       "  <thead>\n",
       "    <tr style=\"text-align: right;\">\n",
       "      <th></th>\n",
       "      <th>말이 많은 정도</th>\n",
       "      <th>책을 좋아하는 정도</th>\n",
       "      <th>여행을 좋아하는 정도</th>\n",
       "      <th>학교성적</th>\n",
       "      <th>키</th>\n",
       "      <th>피부가 좋은 정도</th>\n",
       "      <th>근육질의 정도</th>\n",
       "      <th>호감LABEL</th>\n",
       "    </tr>\n",
       "  </thead>\n",
       "  <tbody>\n",
       "    <tr>\n",
       "      <th>0</th>\n",
       "      <td>30</td>\n",
       "      <td>80</td>\n",
       "      <td>40</td>\n",
       "      <td>40</td>\n",
       "      <td>90</td>\n",
       "      <td>90</td>\n",
       "      <td>50</td>\n",
       "      <td>1타입</td>\n",
       "    </tr>\n",
       "    <tr>\n",
       "      <th>1</th>\n",
       "      <td>60</td>\n",
       "      <td>50</td>\n",
       "      <td>70</td>\n",
       "      <td>50</td>\n",
       "      <td>60</td>\n",
       "      <td>60</td>\n",
       "      <td>90</td>\n",
       "      <td>2타입</td>\n",
       "    </tr>\n",
       "    <tr>\n",
       "      <th>2</th>\n",
       "      <td>50</td>\n",
       "      <td>40</td>\n",
       "      <td>80</td>\n",
       "      <td>60</td>\n",
       "      <td>50</td>\n",
       "      <td>70</td>\n",
       "      <td>80</td>\n",
       "      <td>2타입</td>\n",
       "    </tr>\n",
       "    <tr>\n",
       "      <th>3</th>\n",
       "      <td>90</td>\n",
       "      <td>50</td>\n",
       "      <td>60</td>\n",
       "      <td>30</td>\n",
       "      <td>40</td>\n",
       "      <td>20</td>\n",
       "      <td>30</td>\n",
       "      <td>3타입</td>\n",
       "    </tr>\n",
       "    <tr>\n",
       "      <th>4</th>\n",
       "      <td>50</td>\n",
       "      <td>70</td>\n",
       "      <td>30</td>\n",
       "      <td>70</td>\n",
       "      <td>70</td>\n",
       "      <td>80</td>\n",
       "      <td>60</td>\n",
       "      <td>1타입</td>\n",
       "    </tr>\n",
       "  </tbody>\n",
       "</table>\n",
       "</div>"
      ],
      "text/plain": [
       "   말이 많은 정도  책을 좋아하는 정도  여행을 좋아하는 정도  학교성적   키  피부가 좋은 정도  근육질의 정도 호감LABEL\n",
       "0        30          80           40    40  90         90       50     1타입\n",
       "1        60          50           70    50  60         60       90     2타입\n",
       "2        50          40           80    60  50         70       80     2타입\n",
       "3        90          50           60    30  40         20       30     3타입\n",
       "4        50          70           30    70  70         80       60     1타입"
      ]
     },
     "execution_count": 4,
     "metadata": {},
     "output_type": "execute_result"
    }
   ],
   "source": [
    "like=pd.read_csv('../data/like.csv')"
   ]
  },
  {
   "cell_type": "markdown",
   "id": "a13aaa2c",
   "metadata": {},
   "source": [
    "## 5.2. 데이터 전처리"
   ]
  },
  {
   "cell_type": "code",
   "execution_count": 9,
   "id": "dca0ea7c",
   "metadata": {},
   "outputs": [
    {
     "data": {
      "text/html": [
       "<div>\n",
       "<style scoped>\n",
       "    .dataframe tbody tr th:only-of-type {\n",
       "        vertical-align: middle;\n",
       "    }\n",
       "\n",
       "    .dataframe tbody tr th {\n",
       "        vertical-align: top;\n",
       "    }\n",
       "\n",
       "    .dataframe thead th {\n",
       "        text-align: right;\n",
       "    }\n",
       "</style>\n",
       "<table border=\"1\" class=\"dataframe\">\n",
       "  <thead>\n",
       "    <tr style=\"text-align: right;\">\n",
       "      <th></th>\n",
       "      <th>talk</th>\n",
       "      <th>book</th>\n",
       "      <th>travel</th>\n",
       "      <th>school</th>\n",
       "      <th>tall</th>\n",
       "      <th>skin</th>\n",
       "      <th>musle</th>\n",
       "      <th>like_level</th>\n",
       "    </tr>\n",
       "  </thead>\n",
       "  <tbody>\n",
       "    <tr>\n",
       "      <th>0</th>\n",
       "      <td>30</td>\n",
       "      <td>80</td>\n",
       "      <td>40</td>\n",
       "      <td>40</td>\n",
       "      <td>90</td>\n",
       "      <td>90</td>\n",
       "      <td>50</td>\n",
       "      <td>1타입</td>\n",
       "    </tr>\n",
       "    <tr>\n",
       "      <th>1</th>\n",
       "      <td>60</td>\n",
       "      <td>50</td>\n",
       "      <td>70</td>\n",
       "      <td>50</td>\n",
       "      <td>60</td>\n",
       "      <td>60</td>\n",
       "      <td>90</td>\n",
       "      <td>2타입</td>\n",
       "    </tr>\n",
       "    <tr>\n",
       "      <th>2</th>\n",
       "      <td>50</td>\n",
       "      <td>40</td>\n",
       "      <td>80</td>\n",
       "      <td>60</td>\n",
       "      <td>50</td>\n",
       "      <td>70</td>\n",
       "      <td>80</td>\n",
       "      <td>2타입</td>\n",
       "    </tr>\n",
       "    <tr>\n",
       "      <th>3</th>\n",
       "      <td>90</td>\n",
       "      <td>50</td>\n",
       "      <td>60</td>\n",
       "      <td>30</td>\n",
       "      <td>40</td>\n",
       "      <td>20</td>\n",
       "      <td>30</td>\n",
       "      <td>3타입</td>\n",
       "    </tr>\n",
       "    <tr>\n",
       "      <th>4</th>\n",
       "      <td>50</td>\n",
       "      <td>70</td>\n",
       "      <td>30</td>\n",
       "      <td>70</td>\n",
       "      <td>70</td>\n",
       "      <td>80</td>\n",
       "      <td>60</td>\n",
       "      <td>1타입</td>\n",
       "    </tr>\n",
       "  </tbody>\n",
       "</table>\n",
       "</div>"
      ],
      "text/plain": [
       "   talk  book  travel  school  tall  skin  musle like_level\n",
       "0    30    80      40      40    90    90     50        1타입\n",
       "1    60    50      70      50    60    60     90        2타입\n",
       "2    50    40      80      60    50    70     80        2타입\n",
       "3    90    50      60      30    40    20     30        3타입\n",
       "4    50    70      30      70    70    80     60        1타입"
      ]
     },
     "execution_count": 9,
     "metadata": {},
     "output_type": "execute_result"
    }
   ],
   "source": [
    "like.columns=['talk','book','travel','school','tall','skin','musle','like_level']\n",
    "like.head()"
   ]
  },
  {
   "cell_type": "code",
   "execution_count": 10,
   "id": "4de44c67",
   "metadata": {},
   "outputs": [
    {
     "name": "stdout",
     "output_type": "stream",
     "text": [
      "<class 'pandas.core.frame.DataFrame'>\n",
      "RangeIndex: 14 entries, 0 to 13\n",
      "Data columns (total 8 columns):\n",
      " #   Column      Non-Null Count  Dtype \n",
      "---  ------      --------------  ----- \n",
      " 0   talk        14 non-null     int64 \n",
      " 1   book        14 non-null     int64 \n",
      " 2   travel      14 non-null     int64 \n",
      " 3   school      14 non-null     int64 \n",
      " 4   tall        14 non-null     int64 \n",
      " 5   skin        14 non-null     int64 \n",
      " 6   musle       14 non-null     int64 \n",
      " 7   like_level  14 non-null     object\n",
      "dtypes: int64(7), object(1)\n",
      "memory usage: 1.0+ KB\n"
     ]
    }
   ],
   "source": [
    "like.info()"
   ]
  },
  {
   "cell_type": "markdown",
   "id": "f7fdb744",
   "metadata": {},
   "source": [
    "## 5.3. 입력과  타겟 데이터를 분리"
   ]
  },
  {
   "cell_type": "code",
   "execution_count": 11,
   "id": "02144364",
   "metadata": {},
   "outputs": [
    {
     "name": "stdout",
     "output_type": "stream",
     "text": [
      "(14, 7)\n"
     ]
    }
   ],
   "source": [
    "x=np.array(like.drop('like_level', axis=1))\n",
    "print(x.shape)"
   ]
  },
  {
   "cell_type": "code",
   "execution_count": 12,
   "id": "34c847a7",
   "metadata": {},
   "outputs": [
    {
     "name": "stdout",
     "output_type": "stream",
     "text": [
      "(14,)\n"
     ]
    }
   ],
   "source": [
    "y=np.array(like.like_level)\n",
    "print(y.shape)"
   ]
  },
  {
   "cell_type": "code",
   "execution_count": 13,
   "id": "d513e3e5",
   "metadata": {},
   "outputs": [
    {
     "name": "stdout",
     "output_type": "stream",
     "text": [
      "[[30 80 40 40 90 90 50]\n",
      " [60 50 70 50 60 60 90]\n",
      " [50 40 80 60 50 70 80]\n",
      " [90 50 60 30 40 20 30]\n",
      " [50 70 30 70 70 80 60]\n",
      " [70 30 60 40 40 40 30]\n",
      " [40 90 60 60 60 80 60]\n",
      " [30 60 90 60 40 70 70]\n",
      " [80 40 20 80 60 40 50]\n",
      " [50 70 70 50 70 90 50]\n",
      " [80 50 60 40 50 40 70]\n",
      " [30 70 30 90 70 80 60]\n",
      " [40 60 90 60 50 70 80]\n",
      " [80 30 50 50 80 40 60]]\n",
      "\n",
      "['1타입' '2타입' '2타입' '3타입' '1타입' '3타입' '1타입' '2타입' '3타입' '1타입' '3타입' '1타입'\n",
      " '2타입' '3타입']\n"
     ]
    }
   ],
   "source": [
    "print(x)\n",
    "print()\n",
    "print(y)"
   ]
  },
  {
   "cell_type": "markdown",
   "id": "d92dc967",
   "metadata": {},
   "source": [
    "## 5.4. 데이터 정규화 후 data 훈련"
   ]
  },
  {
   "cell_type": "code",
   "execution_count": 15,
   "id": "943d7b89",
   "metadata": {},
   "outputs": [
    {
     "data": {
      "text/plain": [
       "array([[-1.26962211e+00,  1.34164079e+00, -8.46121804e-01,\n",
       "        -9.87829161e-01,  2.06644812e+00,  1.29927838e+00,\n",
       "        -5.91607978e-01],\n",
       "       [ 2.11603685e-01, -3.65902033e-01,  5.75362827e-01,\n",
       "        -3.59210604e-01,  4.80569331e-02, -9.99444907e-02,\n",
       "         1.77482393e+00],\n",
       "       [-2.82138246e-01, -9.35082972e-01,  1.04919104e+00,\n",
       "         2.69407953e-01, -6.24740131e-01,  3.66463133e-01,\n",
       "         1.18321596e+00],\n",
       "       [ 1.69282948e+00, -3.65902033e-01,  1.01534617e-01,\n",
       "        -1.61644772e+00, -1.29753719e+00, -1.96557498e+00,\n",
       "        -1.77482393e+00],\n",
       "       [-2.82138246e-01,  7.72459847e-01, -1.31995001e+00,\n",
       "         8.98026510e-01,  7.20853997e-01,  8.32870756e-01,\n",
       "        -1.58603289e-17],\n",
       "       [ 7.05345616e-01, -1.50426391e+00,  1.01534617e-01,\n",
       "        -9.87829161e-01, -1.29753719e+00, -1.03275974e+00,\n",
       "        -1.77482393e+00],\n",
       "       [-7.75880177e-01,  1.91082173e+00,  1.01534617e-01,\n",
       "         2.69407953e-01,  4.80569331e-02,  8.32870756e-01,\n",
       "        -1.58603289e-17],\n",
       "       [-1.26962211e+00,  2.03278907e-01,  1.52301925e+00,\n",
       "         2.69407953e-01, -1.29753719e+00,  3.66463133e-01,\n",
       "         5.91607978e-01],\n",
       "       [ 1.19908755e+00, -9.35082972e-01, -1.79377823e+00,\n",
       "         1.52664507e+00,  4.80569331e-02, -1.03275974e+00,\n",
       "        -5.91607978e-01],\n",
       "       [-2.82138246e-01,  7.72459847e-01,  5.75362827e-01,\n",
       "        -3.59210604e-01,  7.20853997e-01,  1.29927838e+00,\n",
       "        -5.91607978e-01],\n",
       "       [ 1.19908755e+00, -3.65902033e-01,  1.01534617e-01,\n",
       "        -9.87829161e-01, -6.24740131e-01, -1.03275974e+00,\n",
       "         5.91607978e-01],\n",
       "       [-1.26962211e+00,  7.72459847e-01, -1.31995001e+00,\n",
       "         2.15526362e+00,  7.20853997e-01,  8.32870756e-01,\n",
       "        -1.58603289e-17],\n",
       "       [-7.75880177e-01,  2.03278907e-01,  1.52301925e+00,\n",
       "         2.69407953e-01, -6.24740131e-01,  3.66463133e-01,\n",
       "         1.18321596e+00],\n",
       "       [ 1.19908755e+00, -1.50426391e+00, -3.72293594e-01,\n",
       "        -3.59210604e-01,  1.39365106e+00, -1.03275974e+00,\n",
       "        -1.58603289e-17]])"
      ]
     },
     "execution_count": 15,
     "metadata": {},
     "output_type": "execute_result"
    }
   ],
   "source": [
    "## 데이터 정규화 >> StandardScaler\n",
    "from sklearn.preprocessing import StandardScaler\n",
    "\n",
    "scaler=StandardScaler()\n",
    "scaler.fit(x) #data 훈련\n",
    "\n",
    "x=scaler.transform(x)\n",
    "x"
   ]
  },
  {
   "cell_type": "markdown",
   "id": "55f836f4",
   "metadata": {},
   "source": [
    "## 5.5. knn 분류 모델 생성 (범주형 데이터 분석)"
   ]
  },
  {
   "cell_type": "code",
   "execution_count": 16,
   "id": "89d58f1d",
   "metadata": {},
   "outputs": [
    {
     "data": {
      "text/plain": [
       "KNeighborsClassifier()"
      ]
     },
     "execution_count": 16,
     "metadata": {},
     "output_type": "execute_result"
    }
   ],
   "source": [
    "from sklearn.neighbors import KNeighborsClassifier\n",
    "\n",
    "classifier=KNeighborsClassifier(n_neighbors=5)\n",
    "classifier.fit(x,y)"
   ]
  },
  {
   "cell_type": "code",
   "execution_count": 17,
   "id": "aee0610d",
   "metadata": {},
   "outputs": [
    {
     "data": {
      "text/plain": [
       "array(['1타입', '2타입', '2타입', '3타입', '1타입', '3타입', '1타입', '2타입', '3타입',\n",
       "       '1타입', '3타입', '1타입', '2타입', '3타입'], dtype=object)"
      ]
     },
     "execution_count": 17,
     "metadata": {},
     "output_type": "execute_result"
    }
   ],
   "source": [
    "# 원래의 데이터를 넣어서 예측\n",
    "y_pred=classifier.predict(x)\n",
    "y_pred"
   ]
  },
  {
   "cell_type": "code",
   "execution_count": 18,
   "id": "1a37abee",
   "metadata": {},
   "outputs": [
    {
     "data": {
      "text/plain": [
       "array(['1타입', '2타입', '2타입', '3타입', '1타입', '3타입', '1타입', '2타입', '3타입',\n",
       "       '1타입', '3타입', '1타입', '2타입', '3타입'], dtype=object)"
      ]
     },
     "execution_count": 18,
     "metadata": {},
     "output_type": "execute_result"
    }
   ],
   "source": [
    "y"
   ]
  },
  {
   "cell_type": "markdown",
   "id": "fb796d7d",
   "metadata": {},
   "source": [
    "## 5.6. 모델 평가"
   ]
  },
  {
   "cell_type": "code",
   "execution_count": 19,
   "id": "39a23c65",
   "metadata": {},
   "outputs": [
    {
     "name": "stdout",
     "output_type": "stream",
     "text": [
      "[[5 0 0]\n",
      " [0 4 0]\n",
      " [0 0 5]]\n",
      "              precision    recall  f1-score   support\n",
      "\n",
      "         1타입       1.00      1.00      1.00         5\n",
      "         2타입       1.00      1.00      1.00         4\n",
      "         3타입       1.00      1.00      1.00         5\n",
      "\n",
      "    accuracy                           1.00        14\n",
      "   macro avg       1.00      1.00      1.00        14\n",
      "weighted avg       1.00      1.00      1.00        14\n",
      "\n"
     ]
    }
   ],
   "source": [
    "from sklearn.metrics import classification_report, confusion_matrix\n",
    "print(confusion_matrix(y, y_pred))#실제 값과 여측값 비교\n",
    "print(classification_report(y, y_pred))"
   ]
  }
 ],
 "metadata": {
  "kernelspec": {
   "display_name": "Python 3 (ipykernel)",
   "language": "python",
   "name": "python3"
  },
  "language_info": {
   "codemirror_mode": {
    "name": "ipython",
    "version": 3
   },
   "file_extension": ".py",
   "mimetype": "text/x-python",
   "name": "python",
   "nbconvert_exporter": "python",
   "pygments_lexer": "ipython3",
   "version": "3.9.7"
  }
 },
 "nbformat": 4,
 "nbformat_minor": 5
}
