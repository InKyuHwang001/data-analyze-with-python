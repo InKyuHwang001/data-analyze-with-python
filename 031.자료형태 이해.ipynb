{
 "cells": [
  {
   "cell_type": "markdown",
   "id": "289a07c1",
   "metadata": {},
   "source": [
    "---\n",
    "# 1.자료의 형태\n",
    "---\n",
    "## 1.1.범주형 자료 요약 \n",
    "---\n",
    "### 1.1.1도수분포표"
   ]
  },
  {
   "cell_type": "code",
   "execution_count": 2,
   "id": "f6412e9a",
   "metadata": {},
   "outputs": [],
   "source": [
    "import pandas as pd\n",
    "import numpy as np\n",
    "import matplotlib.pyplot as plt"
   ]
  },
  {
   "cell_type": "code",
   "execution_count": 4,
   "id": "23d90df2",
   "metadata": {},
   "outputs": [
    {
     "data": {
      "text/html": [
       "<div>\n",
       "<style scoped>\n",
       "    .dataframe tbody tr th:only-of-type {\n",
       "        vertical-align: middle;\n",
       "    }\n",
       "\n",
       "    .dataframe tbody tr th {\n",
       "        vertical-align: top;\n",
       "    }\n",
       "\n",
       "    .dataframe thead th {\n",
       "        text-align: right;\n",
       "    }\n",
       "</style>\n",
       "<table border=\"1\" class=\"dataframe\">\n",
       "  <thead>\n",
       "    <tr style=\"text-align: right;\">\n",
       "      <th></th>\n",
       "      <th>Attend</th>\n",
       "      <th>Name</th>\n",
       "    </tr>\n",
       "  </thead>\n",
       "  <tbody>\n",
       "    <tr>\n",
       "      <th>0</th>\n",
       "      <td>1</td>\n",
       "      <td>A</td>\n",
       "    </tr>\n",
       "    <tr>\n",
       "      <th>1</th>\n",
       "      <td>0</td>\n",
       "      <td>A</td>\n",
       "    </tr>\n",
       "    <tr>\n",
       "      <th>2</th>\n",
       "      <td>1</td>\n",
       "      <td>A</td>\n",
       "    </tr>\n",
       "    <tr>\n",
       "      <th>3</th>\n",
       "      <td>1</td>\n",
       "      <td>A</td>\n",
       "    </tr>\n",
       "    <tr>\n",
       "      <th>4</th>\n",
       "      <td>1</td>\n",
       "      <td>A</td>\n",
       "    </tr>\n",
       "  </tbody>\n",
       "</table>\n",
       "</div>"
      ],
      "text/plain": [
       "   Attend Name\n",
       "0       1    A\n",
       "1       0    A\n",
       "2       1    A\n",
       "3       1    A\n",
       "4       1    A"
      ]
     },
     "execution_count": 4,
     "metadata": {},
     "output_type": "execute_result"
    }
   ],
   "source": [
    "drink=pd.read_csv('../data/drink.csv')\n",
    "drink.head()"
   ]
  },
  {
   "cell_type": "code",
   "execution_count": 5,
   "id": "dd6f0784",
   "metadata": {},
   "outputs": [
    {
     "data": {
      "text/plain": [
       "0     1\n",
       "1     0\n",
       "2     1\n",
       "3     1\n",
       "4     1\n",
       "5     1\n",
       "6     1\n",
       "7     1\n",
       "8     0\n",
       "9     0\n",
       "10    0\n",
       "11    0\n",
       "12    1\n",
       "13    1\n",
       "14    0\n",
       "15    1\n",
       "16    0\n",
       "17    0\n",
       "18    0\n",
       "19    1\n",
       "20    0\n",
       "21    0\n",
       "22    0\n",
       "23    1\n",
       "24    0\n",
       "Name: Attend, dtype: int64"
      ]
     },
     "execution_count": 5,
     "metadata": {},
     "output_type": "execute_result"
    }
   ],
   "source": [
    "drink.Attend"
   ]
  },
  {
   "cell_type": "code",
   "execution_count": 6,
   "id": "87f74dbd",
   "metadata": {},
   "outputs": [
    {
     "data": {
      "text/plain": [
       "0    13\n",
       "1    12\n",
       "Name: Attend, dtype: int64"
      ]
     },
     "execution_count": 6,
     "metadata": {},
     "output_type": "execute_result"
    }
   ],
   "source": [
    "drink['Attend'].value_counts()"
   ]
  },
  {
   "cell_type": "code",
   "execution_count": 7,
   "id": "b7db2804",
   "metadata": {},
   "outputs": [
    {
     "name": "stdout",
     "output_type": "stream",
     "text": [
      "도수분보표\n",
      "0    13\n",
      "1    12\n",
      "Name: Attend, dtype: int64\n"
     ]
    }
   ],
   "source": [
    "drink_freq=drink['Attend'].value_counts()\n",
    "print('도수분보표')\n",
    "print(drink_freq)"
   ]
  },
  {
   "cell_type": "code",
   "execution_count": 8,
   "id": "5d05ff29",
   "metadata": {},
   "outputs": [
    {
     "data": {
      "text/plain": [
       "A    4\n",
       "B    3\n",
       "C    2\n",
       "D    2\n",
       "E    1\n",
       "Name: Name, dtype: int64"
      ]
     },
     "execution_count": 8,
     "metadata": {},
     "output_type": "execute_result"
    }
   ],
   "source": [
    "drink[drink['Attend']==1]['Name'].value_counts()"
   ]
  },
  {
   "cell_type": "markdown",
   "id": "2d92d17d",
   "metadata": {},
   "source": [
    "### 1.1.2. 범주형 자료 요약-막대그래프"
   ]
  },
  {
   "cell_type": "code",
   "execution_count": 9,
   "id": "c7559876",
   "metadata": {},
   "outputs": [],
   "source": [
    "import matplotlib.pyplot as plt"
   ]
  },
  {
   "cell_type": "code",
   "execution_count": 10,
   "id": "c4c4da43",
   "metadata": {},
   "outputs": [
    {
     "data": {
      "text/plain": [
       "<BarContainer object of 5 artists>"
      ]
     },
     "execution_count": 10,
     "metadata": {},
     "output_type": "execute_result"
    },
    {
     "data": {
      "image/png": "[encoded data removed]",
      "text/plain": [
       "<Figure size 432x288 with 1 Axes>"
      ]
     },
     "metadata": {
      "needs_background": "light"
     },
     "output_type": "display_data"
    }
   ],
   "source": [
    "#술자리 참여 상대도수 데이터\n",
    "labels=['A','B','C','D','E']\n",
    "ratio=[4,3,2,2,1]\n",
    "\n",
    "#막대그래프\n",
    "fig,ax=plt.subplots()\n",
    "plt.bar(labels, ratio)"
   ]
  },
  {
   "cell_type": "markdown",
   "id": "6f1ed042",
   "metadata": {},
   "source": [
    "---\n",
    "## 1.2. 수치형 자료 요약\n",
    "---\n",
    "### 1.2.1. 평균"
   ]
  },
  {
   "cell_type": "code",
   "execution_count": 11,
   "id": "af658621",
   "metadata": {},
   "outputs": [
    {
     "data": {
      "text/plain": [
       "143.38"
      ]
     },
     "execution_count": 11,
     "metadata": {},
     "output_type": "execute_result"
    }
   ],
   "source": [
    "coffee=np.array([202,177,121,148,56,121,137,185])\n",
    "\n",
    "#평균\n",
    "cf_mean=coffee.mean().round(2)\n",
    "\n",
    "cf_mean"
   ]
  },
  {
   "cell_type": "code",
   "execution_count": 12,
   "id": "d645bdf5",
   "metadata": {},
   "outputs": [
    {
     "name": "stdout",
     "output_type": "stream",
     "text": [
      "sd: 46.28\n"
     ]
    }
   ],
   "source": [
    "from statistics import stdev\n",
    "import numpy as np\n",
    "\n",
    "cf_std=stdev(coffee)\n",
    "\n",
    "print('sd:',round(cf_std,2))"
   ]
  },
  {
   "cell_type": "markdown",
   "id": "492ae76c",
   "metadata": {},
   "source": [
    "### 1.2.2. 히스토 그램 그리기"
   ]
  },
  {
   "cell_type": "code",
   "execution_count": 13,
   "id": "af32ba03",
   "metadata": {},
   "outputs": [
    {
     "data": {
      "text/plain": [
       "(array([1., 0., 0., 0., 2., 1., 1., 0., 2., 1.]),\n",
       " array([ 56. ,  70.6,  85.2,  99.8, 114.4, 129. , 143.6, 158.2, 172.8,\n",
       "        187.4, 202. ]),\n",
       " <BarContainer object of 10 artists>)"
      ]
     },
     "execution_count": 13,
     "metadata": {},
     "output_type": "execute_result"
    },
    {
     "data": {
      "image/png": "[encoded data removed]",
      "text/plain": [
       "<Figure size 432x288 with 1 Axes>"
      ]
     },
     "metadata": {
      "needs_background": "light"
     },
     "output_type": "display_data"
    }
   ],
   "source": [
    "fix,ax=plt.subplots()\n",
    "\n",
    "plt.hist(coffee)"
   ]
  },
  {
   "cell_type": "code",
   "execution_count": 14,
   "id": "0f9fdff5",
   "metadata": {},
   "outputs": [
    {
     "data": {
      "text/plain": [
       "(array([1., 4., 3.]),\n",
       " array([ 56.        , 104.66666667, 153.33333333, 202.        ]),\n",
       " <BarContainer object of 3 artists>)"
      ]
     },
     "execution_count": 14,
     "metadata": {},
     "output_type": "execute_result"
    },
    {
     "data": {
      "image/png": "[encoded data removed]",
      "text/plain": [
       "<Figure size 432x288 with 1 Axes>"
      ]
     },
     "metadata": {
      "needs_background": "light"
     },
     "output_type": "display_data"
    }
   ],
   "source": [
    "plt.hist(coffee, bins=3)# bins=3계급수3개"
   ]
  }
 ],
 "metadata": {
  "kernelspec": {
   "display_name": "Python 3 (ipykernel)",
   "language": "python",
   "name": "python3"
  },
  "language_info": {
   "codemirror_mode": {
    "name": "ipython",
    "version": 3
   },
   "file_extension": ".py",
   "mimetype": "text/x-python",
   "name": "python",
   "nbconvert_exporter": "python",
   "pygments_lexer": "ipython3",
   "version": "3.9.7"
  }
 },
 "nbformat": 4,
 "nbformat_minor": 5
}
