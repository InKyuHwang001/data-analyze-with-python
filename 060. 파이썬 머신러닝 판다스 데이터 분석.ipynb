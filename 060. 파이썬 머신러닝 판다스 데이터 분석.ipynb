{
 "cells": [
  {
   "cell_type": "markdown",
   "id": "c9930758",
   "metadata": {},
   "source": [
    "1. 판다스 입문\n",
    "2. 데이터 입출력\n",
    "3. 데이터 살펴보기\n",
    "4. 시각화 도구\n",
    "5. 데이터 전처리\n",
    "6. 데이터프레임의 다양한 응용\n",
    "7. 머신러닝 데이터 분석\n",
    "    1. 머신러닝 개요\n",
    "    2. 회귀분석\n",
    "        1. 단순회귀분석\n",
    "        2. 다항회귀분석\n",
    "        3. 다중회귀분석\n",
    "    3. 분류\n",
    "    4. 군집"
   ]
  }
 ],
 "metadata": {
  "kernelspec": {
   "display_name": "Python 3 (ipykernel)",
   "language": "python",
   "name": "python3"
  },
  "language_info": {
   "codemirror_mode": {
    "name": "ipython",
    "version": 3
   },
   "file_extension": ".py",
   "mimetype": "text/x-python",
   "name": "python",
   "nbconvert_exporter": "python",
   "pygments_lexer": "ipython3",
   "version": "3.9.7"
  }
 },
 "nbformat": 4,
 "nbformat_minor": 5
}
