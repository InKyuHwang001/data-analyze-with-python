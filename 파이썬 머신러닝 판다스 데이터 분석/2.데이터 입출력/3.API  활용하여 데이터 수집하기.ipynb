{
 "cells": [
  {
   "cell_type": "markdown",
   "id": "1150ee0a",
   "metadata": {},
   "source": [
    "# 3.API  활용하여 데이터 수집하기"
   ]
  },
  {
   "cell_type": "code",
   "execution_count": null,
   "id": "fa93a495",
   "metadata": {},
   "outputs": [],
   "source": [
    "import pandas as pd\n",
    "import googlemaps\n",
    "\n",
    "# API 키 \n",
    "my_key = '---------api key------------' # 키를 입력\n",
    "\n",
    "maps = googlemaps.Client(key=my_key) # 구글맵스 객체 생성\n",
    "\n",
    "lat = [] # 위도값이 들어갈 리스트\n",
    "lng = [] # 경도값이 들어갈 리스트\n",
    "\n",
    "places = ['서울시청','국립국악원','해운대해수욕장'] # 위치정보를 가져올 지명\n",
    "\n",
    "i = 0 # 순서를 표시할 변수 지정\n",
    "for place in places:\n",
    "    i += 1 # 반복마다 1 씩 순서번호 증가\n",
    "    try:\n",
    "        print(i, place)\n",
    "        geo_location = maps.geocode(place)[0].get('geometry') # 위경도 정보 저장\n",
    "        lat.append(geo_location['location']['lat']) # 생성한 리스트에 위도 추가\n",
    "        lng.append(geo_location['location']['lng']) # 생성한 리스트에 경도 추가\n",
    "    \n",
    "    except:  # 해당지명에 대한 정보다 없다면 아래 수행\n",
    "        lat.append('')\n",
    "        lng.append('')\n",
    "        print(i)\n",
    "        \n",
    "\n",
    "# 데이터프레임으로 변환하기\n",
    "df = pd.DataFrame({'위도':lat, '경도':lng}, index=places)\n",
    "print('\\n')\n",
    "print(df)"
   ]
  }
 ],
 "metadata": {
  "kernelspec": {
   "display_name": "Python 3 (ipykernel)",
   "language": "python",
   "name": "python3"
  },
  "language_info": {
   "codemirror_mode": {
    "name": "ipython",
    "version": 3
   },
   "file_extension": ".py",
   "mimetype": "text/x-python",
   "name": "python",
   "nbconvert_exporter": "python",
   "pygments_lexer": "ipython3",
   "version": "3.9.7"
  }
 },
 "nbformat": 4,
 "nbformat_minor": 5
}
